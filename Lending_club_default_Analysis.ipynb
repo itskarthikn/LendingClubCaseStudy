{
  "metadata": {
    "kernelspec": {
      "name": "python",
      "display_name": "Python (Pyodide)",
      "language": "python"
    },
    "language_info": {
      "codemirror_mode": {
        "name": "python",
        "version": 3
      },
      "file_extension": ".py",
      "mimetype": "text/x-python",
      "name": "python",
      "nbconvert_exporter": "python",
      "pygments_lexer": "ipython3",
      "version": "3.8"
    }
  },
  "nbformat_minor": 5,
  "nbformat": 4,
  "cells": [
    {
      "id": "8cbb1bb6-c2b0-49d7-9707-bf35508fd666",
      "cell_type": "markdown",
      "source": "#### Importing Libraries",
      "metadata": {}
    },
    {
      "id": "8f4df7b0-03cd-41ab-b105-ffc48c79e1c0",
      "cell_type": "code",
      "source": "#import the libraries\nimport pandas as pd\nimport numpy as np\n#import the plotting libraries\nimport warnings\nwarnings.filterwarnings(\"ignore\")\nimport piplite\nawait piplite.install('seaborn')\nawait piplite.install('matplotlib')\n#import the plotting libraries\nimport matplotlib.pyplot as plt\n%matplotlib inline\nimport seaborn as sns",
      "metadata": {
        "trusted": true
      },
      "outputs": [
        {
          "ename": "<class 'OSError'>",
          "evalue": "Not available",
          "traceback": [
            "\u001b[0;31m---------------------------------------------------------------------------\u001b[0m",
            "\u001b[0;31mOSError\u001b[0m                                   Traceback (most recent call last)",
            "Cell \u001b[0;32mIn[197], line 12\u001b[0m\n\u001b[1;32m     10\u001b[0m \u001b[38;5;66;03m#import the plotting libraries\u001b[39;00m\n\u001b[1;32m     11\u001b[0m \u001b[38;5;28;01mimport\u001b[39;00m \u001b[38;5;21;01mmatplotlib\u001b[39;00m\u001b[38;5;21;01m.\u001b[39;00m\u001b[38;5;21;01mpyplot\u001b[39;00m \u001b[38;5;28;01mas\u001b[39;00m \u001b[38;5;21;01mplt\u001b[39;00m\n\u001b[0;32m---> 12\u001b[0m \u001b[43mget_ipython\u001b[49m\u001b[43m(\u001b[49m\u001b[43m)\u001b[49m\u001b[38;5;241;43m.\u001b[39;49m\u001b[43mrun_line_magic\u001b[49m\u001b[43m(\u001b[49m\u001b[38;5;124;43m'\u001b[39;49m\u001b[38;5;124;43mmatplotlib\u001b[39;49m\u001b[38;5;124;43m'\u001b[39;49m\u001b[43m,\u001b[49m\u001b[43m \u001b[49m\u001b[38;5;124;43m'\u001b[39;49m\u001b[38;5;124;43minline\u001b[39;49m\u001b[38;5;124;43m'\u001b[39;49m\u001b[43m)\u001b[49m\n\u001b[1;32m     13\u001b[0m \u001b[38;5;28;01mimport\u001b[39;00m \u001b[38;5;21;01mseaborn\u001b[39;00m \u001b[38;5;28;01mas\u001b[39;00m \u001b[38;5;21;01msns\u001b[39;00m\n",
            "File \u001b[0;32m/lib/python3.11/site-packages/IPython/core/interactiveshell.py:2480\u001b[0m, in \u001b[0;36mInteractiveShell.run_line_magic\u001b[0;34m(self, magic_name, line, _stack_depth)\u001b[0m\n\u001b[1;32m   2478\u001b[0m     kwargs[\u001b[38;5;124m'\u001b[39m\u001b[38;5;124mlocal_ns\u001b[39m\u001b[38;5;124m'\u001b[39m] \u001b[38;5;241m=\u001b[39m \u001b[38;5;28mself\u001b[39m\u001b[38;5;241m.\u001b[39mget_local_scope(stack_depth)\n\u001b[1;32m   2479\u001b[0m \u001b[38;5;28;01mwith\u001b[39;00m \u001b[38;5;28mself\u001b[39m\u001b[38;5;241m.\u001b[39mbuiltin_trap:\n\u001b[0;32m-> 2480\u001b[0m     result \u001b[38;5;241m=\u001b[39m \u001b[43mfn\u001b[49m\u001b[43m(\u001b[49m\u001b[38;5;241;43m*\u001b[39;49m\u001b[43margs\u001b[49m\u001b[43m,\u001b[49m\u001b[43m \u001b[49m\u001b[38;5;241;43m*\u001b[39;49m\u001b[38;5;241;43m*\u001b[39;49m\u001b[43mkwargs\u001b[49m\u001b[43m)\u001b[49m\n\u001b[1;32m   2482\u001b[0m \u001b[38;5;66;03m# The code below prevents the output from being displayed\u001b[39;00m\n\u001b[1;32m   2483\u001b[0m \u001b[38;5;66;03m# when using magics with decorator @output_can_be_silenced\u001b[39;00m\n\u001b[1;32m   2484\u001b[0m \u001b[38;5;66;03m# when the last Python token in the expression is a ';'.\u001b[39;00m\n\u001b[1;32m   2485\u001b[0m \u001b[38;5;28;01mif\u001b[39;00m \u001b[38;5;28mgetattr\u001b[39m(fn, magic\u001b[38;5;241m.\u001b[39mMAGIC_OUTPUT_CAN_BE_SILENCED, \u001b[38;5;28;01mFalse\u001b[39;00m):\n",
            "File \u001b[0;32m/lib/python3.11/site-packages/IPython/core/magics/pylab.py:94\u001b[0m, in \u001b[0;36mPylabMagics.matplotlib\u001b[0;34m(self, line)\u001b[0m\n\u001b[1;32m     41\u001b[0m \u001b[38;5;129m@skip_doctest\u001b[39m\n\u001b[1;32m     42\u001b[0m \u001b[38;5;129m@line_magic\u001b[39m\n\u001b[1;32m     43\u001b[0m \u001b[38;5;129m@magic_arguments\u001b[39m\u001b[38;5;241m.\u001b[39mmagic_arguments()\n\u001b[0;32m   (...)\u001b[0m\n\u001b[1;32m     46\u001b[0m \u001b[38;5;129m@magic_gui_arg\u001b[39m\n\u001b[1;32m     47\u001b[0m \u001b[38;5;28;01mdef\u001b[39;00m \u001b[38;5;21mmatplotlib\u001b[39m(\u001b[38;5;28mself\u001b[39m, line\u001b[38;5;241m=\u001b[39m\u001b[38;5;124m'\u001b[39m\u001b[38;5;124m'\u001b[39m):\n\u001b[1;32m     48\u001b[0m \u001b[38;5;250m    \u001b[39m\u001b[38;5;124;03m\"\"\"Set up matplotlib to work interactively.\u001b[39;00m\n\u001b[1;32m     49\u001b[0m \n\u001b[1;32m     50\u001b[0m \u001b[38;5;124;03m    This function lets you activate matplotlib interactive support\u001b[39;00m\n\u001b[0;32m   (...)\u001b[0m\n\u001b[1;32m     92\u001b[0m \u001b[38;5;124;03m       'gtk', 'tk', 'inline']\u001b[39;00m\n\u001b[1;32m     93\u001b[0m \u001b[38;5;124;03m    \"\"\"\u001b[39;00m\n\u001b[0;32m---> 94\u001b[0m     args \u001b[38;5;241m=\u001b[39m \u001b[43mmagic_arguments\u001b[49m\u001b[38;5;241;43m.\u001b[39;49m\u001b[43mparse_argstring\u001b[49m\u001b[43m(\u001b[49m\u001b[38;5;28;43mself\u001b[39;49m\u001b[38;5;241;43m.\u001b[39;49m\u001b[43mmatplotlib\u001b[49m\u001b[43m,\u001b[49m\u001b[43m \u001b[49m\u001b[43mline\u001b[49m\u001b[43m)\u001b[49m\n\u001b[1;32m     95\u001b[0m     \u001b[38;5;28;01mif\u001b[39;00m args\u001b[38;5;241m.\u001b[39mlist:\n\u001b[1;32m     96\u001b[0m         backends_list \u001b[38;5;241m=\u001b[39m \u001b[38;5;28mlist\u001b[39m(backends\u001b[38;5;241m.\u001b[39mkeys())\n",
            "File \u001b[0;32m/lib/python3.11/site-packages/IPython/core/magic_arguments.py:196\u001b[0m, in \u001b[0;36mparse_argstring\u001b[0;34m(magic_func, argstring)\u001b[0m\n\u001b[1;32m    193\u001b[0m \u001b[38;5;28;01mdef\u001b[39;00m \u001b[38;5;21mparse_argstring\u001b[39m(magic_func, argstring):\n\u001b[1;32m    194\u001b[0m \u001b[38;5;250m    \u001b[39m\u001b[38;5;124;03m\"\"\" Parse the string of arguments for the given magic function.\u001b[39;00m\n\u001b[1;32m    195\u001b[0m \u001b[38;5;124;03m    \"\"\"\u001b[39;00m\n\u001b[0;32m--> 196\u001b[0m     \u001b[38;5;28;01mreturn\u001b[39;00m \u001b[43mmagic_func\u001b[49m\u001b[38;5;241;43m.\u001b[39;49m\u001b[43mparser\u001b[49m\u001b[38;5;241;43m.\u001b[39;49m\u001b[43mparse_argstring\u001b[49m\u001b[43m(\u001b[49m\u001b[43margstring\u001b[49m\u001b[43m)\u001b[49m\n",
            "File \u001b[0;32m/lib/python3.11/site-packages/IPython/core/magic_arguments.py:167\u001b[0m, in \u001b[0;36mMagicArgumentParser.parse_argstring\u001b[0;34m(self, argstring)\u001b[0m\n\u001b[1;32m    164\u001b[0m \u001b[38;5;28;01mdef\u001b[39;00m \u001b[38;5;21mparse_argstring\u001b[39m(\u001b[38;5;28mself\u001b[39m, argstring):\n\u001b[1;32m    165\u001b[0m \u001b[38;5;250m    \u001b[39m\u001b[38;5;124;03m\"\"\" Split a string into an argument list and parse that argument list.\u001b[39;00m\n\u001b[1;32m    166\u001b[0m \u001b[38;5;124;03m    \"\"\"\u001b[39;00m\n\u001b[0;32m--> 167\u001b[0m     argv \u001b[38;5;241m=\u001b[39m \u001b[43marg_split\u001b[49m\u001b[43m(\u001b[49m\u001b[43margstring\u001b[49m\u001b[43m)\u001b[49m\n\u001b[1;32m    168\u001b[0m     \u001b[38;5;28;01mreturn\u001b[39;00m \u001b[38;5;28mself\u001b[39m\u001b[38;5;241m.\u001b[39mparse_args(argv)\n",
            "File \u001b[0;32m/lib/python3.11/site-packages/IPython/utils/_process_emscripten.py:21\u001b[0m, in \u001b[0;36marg_split\u001b[0;34m(s, posix, strict)\u001b[0m\n\u001b[1;32m     19\u001b[0m \u001b[38;5;28;01mdef\u001b[39;00m \u001b[38;5;21marg_split\u001b[39m(s, posix\u001b[38;5;241m=\u001b[39m\u001b[38;5;28;01mFalse\u001b[39;00m, strict\u001b[38;5;241m=\u001b[39m\u001b[38;5;28;01mTrue\u001b[39;00m):\n\u001b[1;32m     20\u001b[0m \u001b[38;5;250m    \u001b[39m\u001b[38;5;124;03m\"\"\"This one could be made to work but it's not clear if it would be useful...\"\"\"\u001b[39;00m\n\u001b[0;32m---> 21\u001b[0m     \u001b[38;5;28;01mraise\u001b[39;00m \u001b[38;5;167;01mOSError\u001b[39;00m(\u001b[38;5;124m\"\u001b[39m\u001b[38;5;124mNot available\u001b[39m\u001b[38;5;124m\"\u001b[39m)\n",
            "\u001b[0;31mOSError\u001b[0m: Not available"
          ],
          "output_type": "error"
        }
      ],
      "execution_count": 197
    },
    {
      "id": "ce22adde-d877-4424-9e2d-2df427aa6458",
      "cell_type": "markdown",
      "source": "#### Read CSV file",
      "metadata": {}
    },
    {
      "id": "944fffd1",
      "cell_type": "code",
      "source": "pd.options.display.float_format = '{:.0f}'.format\ndf=pd.read_csv(\"loan.csv\")\ndf.head()\n",
      "metadata": {
        "trusted": true
      },
      "outputs": [
        {
          "execution_count": 198,
          "output_type": "execute_result",
          "data": {
            "text/plain": "        id  member_id  loan_amnt  funded_amnt  funded_amnt_inv        term  \\\n0  1077501    1296599       5000         5000             4975   36 months   \n1  1077430    1314167       2500         2500             2500   60 months   \n2  1077175    1313524       2400         2400             2400   36 months   \n3  1076863    1277178      10000        10000            10000   36 months   \n4  1075358    1311748       3000         3000             3000   60 months   \n\n  int_rate  installment grade sub_grade  ... num_tl_90g_dpd_24m  \\\n0   10.65%          163     B        B2  ...                NaN   \n1   15.27%           60     C        C4  ...                NaN   \n2   15.96%           84     C        C5  ...                NaN   \n3   13.49%          339     C        C1  ...                NaN   \n4   12.69%           68     B        B5  ...                NaN   \n\n  num_tl_op_past_12m pct_tl_nvr_dlq  percent_bc_gt_75 pub_rec_bankruptcies  \\\n0                NaN            NaN               NaN                    0   \n1                NaN            NaN               NaN                    0   \n2                NaN            NaN               NaN                    0   \n3                NaN            NaN               NaN                    0   \n4                NaN            NaN               NaN                    0   \n\n  tax_liens tot_hi_cred_lim total_bal_ex_mort total_bc_limit  \\\n0         0             NaN               NaN            NaN   \n1         0             NaN               NaN            NaN   \n2         0             NaN               NaN            NaN   \n3         0             NaN               NaN            NaN   \n4         0             NaN               NaN            NaN   \n\n  total_il_high_credit_limit  \n0                        NaN  \n1                        NaN  \n2                        NaN  \n3                        NaN  \n4                        NaN  \n\n[5 rows x 111 columns]",
            "text/html": "<div>\n<style scoped>\n    .dataframe tbody tr th:only-of-type {\n        vertical-align: middle;\n    }\n\n    .dataframe tbody tr th {\n        vertical-align: top;\n    }\n\n    .dataframe thead th {\n        text-align: right;\n    }\n</style>\n<table border=\"1\" class=\"dataframe\">\n  <thead>\n    <tr style=\"text-align: right;\">\n      <th></th>\n      <th>id</th>\n      <th>member_id</th>\n      <th>loan_amnt</th>\n      <th>funded_amnt</th>\n      <th>funded_amnt_inv</th>\n      <th>term</th>\n      <th>int_rate</th>\n      <th>installment</th>\n      <th>grade</th>\n      <th>sub_grade</th>\n      <th>...</th>\n      <th>num_tl_90g_dpd_24m</th>\n      <th>num_tl_op_past_12m</th>\n      <th>pct_tl_nvr_dlq</th>\n      <th>percent_bc_gt_75</th>\n      <th>pub_rec_bankruptcies</th>\n      <th>tax_liens</th>\n      <th>tot_hi_cred_lim</th>\n      <th>total_bal_ex_mort</th>\n      <th>total_bc_limit</th>\n      <th>total_il_high_credit_limit</th>\n    </tr>\n  </thead>\n  <tbody>\n    <tr>\n      <th>0</th>\n      <td>1077501</td>\n      <td>1296599</td>\n      <td>5000</td>\n      <td>5000</td>\n      <td>4975</td>\n      <td>36 months</td>\n      <td>10.65%</td>\n      <td>163</td>\n      <td>B</td>\n      <td>B2</td>\n      <td>...</td>\n      <td>NaN</td>\n      <td>NaN</td>\n      <td>NaN</td>\n      <td>NaN</td>\n      <td>0</td>\n      <td>0</td>\n      <td>NaN</td>\n      <td>NaN</td>\n      <td>NaN</td>\n      <td>NaN</td>\n    </tr>\n    <tr>\n      <th>1</th>\n      <td>1077430</td>\n      <td>1314167</td>\n      <td>2500</td>\n      <td>2500</td>\n      <td>2500</td>\n      <td>60 months</td>\n      <td>15.27%</td>\n      <td>60</td>\n      <td>C</td>\n      <td>C4</td>\n      <td>...</td>\n      <td>NaN</td>\n      <td>NaN</td>\n      <td>NaN</td>\n      <td>NaN</td>\n      <td>0</td>\n      <td>0</td>\n      <td>NaN</td>\n      <td>NaN</td>\n      <td>NaN</td>\n      <td>NaN</td>\n    </tr>\n    <tr>\n      <th>2</th>\n      <td>1077175</td>\n      <td>1313524</td>\n      <td>2400</td>\n      <td>2400</td>\n      <td>2400</td>\n      <td>36 months</td>\n      <td>15.96%</td>\n      <td>84</td>\n      <td>C</td>\n      <td>C5</td>\n      <td>...</td>\n      <td>NaN</td>\n      <td>NaN</td>\n      <td>NaN</td>\n      <td>NaN</td>\n      <td>0</td>\n      <td>0</td>\n      <td>NaN</td>\n      <td>NaN</td>\n      <td>NaN</td>\n      <td>NaN</td>\n    </tr>\n    <tr>\n      <th>3</th>\n      <td>1076863</td>\n      <td>1277178</td>\n      <td>10000</td>\n      <td>10000</td>\n      <td>10000</td>\n      <td>36 months</td>\n      <td>13.49%</td>\n      <td>339</td>\n      <td>C</td>\n      <td>C1</td>\n      <td>...</td>\n      <td>NaN</td>\n      <td>NaN</td>\n      <td>NaN</td>\n      <td>NaN</td>\n      <td>0</td>\n      <td>0</td>\n      <td>NaN</td>\n      <td>NaN</td>\n      <td>NaN</td>\n      <td>NaN</td>\n    </tr>\n    <tr>\n      <th>4</th>\n      <td>1075358</td>\n      <td>1311748</td>\n      <td>3000</td>\n      <td>3000</td>\n      <td>3000</td>\n      <td>60 months</td>\n      <td>12.69%</td>\n      <td>68</td>\n      <td>B</td>\n      <td>B5</td>\n      <td>...</td>\n      <td>NaN</td>\n      <td>NaN</td>\n      <td>NaN</td>\n      <td>NaN</td>\n      <td>0</td>\n      <td>0</td>\n      <td>NaN</td>\n      <td>NaN</td>\n      <td>NaN</td>\n      <td>NaN</td>\n    </tr>\n  </tbody>\n</table>\n<p>5 rows × 111 columns</p>\n</div>"
          },
          "metadata": {}
        }
      ],
      "execution_count": 198
    },
    {
      "id": "51b05961",
      "cell_type": "code",
      "source": "df.shape\n",
      "metadata": {
        "trusted": true
      },
      "outputs": [
        {
          "execution_count": 199,
          "output_type": "execute_result",
          "data": {
            "text/plain": "(39717, 111)"
          },
          "metadata": {}
        }
      ],
      "execution_count": 199
    },
    {
      "id": "80d66826-8618-491e-9d49-95e408ff7c8c",
      "cell_type": "markdown",
      "source": "### Data Handling and Cleaning",
      "metadata": {}
    },
    {
      "id": "a25947ec",
      "cell_type": "code",
      "source": "df.isnull().sum(axis=0)",
      "metadata": {
        "trusted": true
      },
      "outputs": [
        {
          "execution_count": 200,
          "output_type": "execute_result",
          "data": {
            "text/plain": "id                                0\nmember_id                         0\nloan_amnt                         0\nfunded_amnt                       0\nfunded_amnt_inv                   0\n                              ...  \ntax_liens                        39\ntot_hi_cred_lim               39717\ntotal_bal_ex_mort             39717\ntotal_bc_limit                39717\ntotal_il_high_credit_limit    39717\nLength: 111, dtype: int64"
          },
          "metadata": {}
        }
      ],
      "execution_count": 200
    },
    {
      "id": "d2d25a46",
      "cell_type": "code",
      "source": "# drop columns with all NaN's\ndf = df.dropna(axis=1, how='all')\ndf.shape",
      "metadata": {
        "trusted": true
      },
      "outputs": [
        {
          "execution_count": 201,
          "output_type": "execute_result",
          "data": {
            "text/plain": "(39717, 57)"
          },
          "metadata": {}
        }
      ],
      "execution_count": 201
    },
    {
      "id": "16e8703b",
      "cell_type": "code",
      "source": "df.isnull().sum()",
      "metadata": {
        "trusted": true
      },
      "outputs": [
        {
          "execution_count": 202,
          "output_type": "execute_result",
          "data": {
            "text/plain": "id                                0\nmember_id                         0\nloan_amnt                         0\nfunded_amnt                       0\nfunded_amnt_inv                   0\nterm                              0\nint_rate                          0\ninstallment                       0\ngrade                             0\nsub_grade                         0\nemp_title                      2459\nemp_length                     1075\nhome_ownership                    0\nannual_inc                        0\nverification_status               0\nissue_d                           0\nloan_status                       0\npymnt_plan                        0\nurl                               0\ndesc                          12940\npurpose                           0\ntitle                            11\nzip_code                          0\naddr_state                        0\ndti                               0\ndelinq_2yrs                       0\nearliest_cr_line                  0\ninq_last_6mths                    0\nmths_since_last_delinq        25682\nmths_since_last_record        36931\nopen_acc                          0\npub_rec                           0\nrevol_bal                         0\nrevol_util                       50\ntotal_acc                         0\ninitial_list_status               0\nout_prncp                         0\nout_prncp_inv                     0\ntotal_pymnt                       0\ntotal_pymnt_inv                   0\ntotal_rec_prncp                   0\ntotal_rec_int                     0\ntotal_rec_late_fee                0\nrecoveries                        0\ncollection_recovery_fee           0\nlast_pymnt_d                     71\nlast_pymnt_amnt                   0\nnext_pymnt_d                  38577\nlast_credit_pull_d                2\ncollections_12_mths_ex_med       56\npolicy_code                       0\napplication_type                  0\nacc_now_delinq                    0\nchargeoff_within_12_mths         56\ndelinq_amnt                       0\npub_rec_bankruptcies            697\ntax_liens                        39\ndtype: int64"
          },
          "metadata": {}
        }
      ],
      "execution_count": 202
    },
    {
      "id": "3e38480e",
      "cell_type": "code",
      "source": "df.info()",
      "metadata": {
        "trusted": true
      },
      "outputs": [
        {
          "name": "stdout",
          "text": "<class 'pandas.core.frame.DataFrame'>\nRangeIndex: 39717 entries, 0 to 39716\nData columns (total 57 columns):\n #   Column                      Non-Null Count  Dtype  \n---  ------                      --------------  -----  \n 0   id                          39717 non-null  int64  \n 1   member_id                   39717 non-null  int64  \n 2   loan_amnt                   39717 non-null  int64  \n 3   funded_amnt                 39717 non-null  int64  \n 4   funded_amnt_inv             39717 non-null  float64\n 5   term                        39717 non-null  object \n 6   int_rate                    39717 non-null  object \n 7   installment                 39717 non-null  float64\n 8   grade                       39717 non-null  object \n 9   sub_grade                   39717 non-null  object \n 10  emp_title                   37258 non-null  object \n 11  emp_length                  38642 non-null  object \n 12  home_ownership              39717 non-null  object \n 13  annual_inc                  39717 non-null  float64\n 14  verification_status         39717 non-null  object \n 15  issue_d                     39717 non-null  object \n 16  loan_status                 39717 non-null  object \n 17  pymnt_plan                  39717 non-null  object \n 18  url                         39717 non-null  object \n 19  desc                        26777 non-null  object \n 20  purpose                     39717 non-null  object \n 21  title                       39706 non-null  object \n 22  zip_code                    39717 non-null  object \n 23  addr_state                  39717 non-null  object \n 24  dti                         39717 non-null  float64\n 25  delinq_2yrs                 39717 non-null  int64  \n 26  earliest_cr_line            39717 non-null  object \n 27  inq_last_6mths              39717 non-null  int64  \n 28  mths_since_last_delinq      14035 non-null  float64\n 29  mths_since_last_record      2786 non-null   float64\n 30  open_acc                    39717 non-null  int64  \n 31  pub_rec                     39717 non-null  int64  \n 32  revol_bal                   39717 non-null  int64  \n 33  revol_util                  39667 non-null  object \n 34  total_acc                   39717 non-null  int64  \n 35  initial_list_status         39717 non-null  object \n 36  out_prncp                   39717 non-null  float64\n 37  out_prncp_inv               39717 non-null  float64\n 38  total_pymnt                 39717 non-null  float64\n 39  total_pymnt_inv             39717 non-null  float64\n 40  total_rec_prncp             39717 non-null  float64\n 41  total_rec_int               39717 non-null  float64\n 42  total_rec_late_fee          39717 non-null  float64\n 43  recoveries                  39717 non-null  float64\n 44  collection_recovery_fee     39717 non-null  float64\n 45  last_pymnt_d                39646 non-null  object \n 46  last_pymnt_amnt             39717 non-null  float64\n 47  next_pymnt_d                1140 non-null   object \n 48  last_credit_pull_d          39715 non-null  object \n 49  collections_12_mths_ex_med  39661 non-null  float64\n 50  policy_code                 39717 non-null  int64  \n 51  application_type            39717 non-null  object \n 52  acc_now_delinq              39717 non-null  int64  \n 53  chargeoff_within_12_mths    39661 non-null  float64\n 54  delinq_amnt                 39717 non-null  int64  \n 55  pub_rec_bankruptcies        39020 non-null  float64\n 56  tax_liens                   39678 non-null  float64\ndtypes: float64(20), int64(13), object(24)\nmemory usage: 13.6+ MB\n",
          "output_type": "stream"
        }
      ],
      "execution_count": 203
    },
    {
      "id": "c594e4ad",
      "cell_type": "code",
      "source": "null_cols = df.columns[df.isnull().any()]\nnull_df = df[null_cols].isnull().sum().to_frame(name='Null Count')\\\n          .merge(df[null_cols].isnull().mean().mul(100).to_frame(name='Null Percent'), left_index=True, right_index=True)\nnull_df_sorted = null_df.sort_values(by='Null Count', ascending=False)\nprint(null_df_sorted)",
      "metadata": {
        "trusted": true
      },
      "outputs": [
        {
          "name": "stdout",
          "text": "                            Null Count  Null Percent\nnext_pymnt_d                     38577            97\nmths_since_last_record           36931            93\nmths_since_last_delinq           25682            65\ndesc                             12940            33\nemp_title                         2459             6\nemp_length                        1075             3\npub_rec_bankruptcies               697             2\nlast_pymnt_d                        71             0\ncollections_12_mths_ex_med          56             0\nchargeoff_within_12_mths            56             0\nrevol_util                          50             0\ntax_liens                           39             0\ntitle                               11             0\nlast_credit_pull_d                   2             0\n",
          "output_type": "stream"
        }
      ],
      "execution_count": 204
    },
    {
      "id": "e76d71eb-c0ba-4f1e-adba-cd78f595191f",
      "cell_type": "code",
      "source": "df=df.drop(['next_pymnt_d','mths_since_last_record','mths_since_last_delinq'],axis=1)\ndf.shape",
      "metadata": {
        "trusted": true
      },
      "outputs": [
        {
          "execution_count": 205,
          "output_type": "execute_result",
          "data": {
            "text/plain": "(39717, 54)"
          },
          "metadata": {}
        }
      ],
      "execution_count": 205
    },
    {
      "id": "6f4297e7-2066-4750-b3a1-e841037c0747",
      "cell_type": "markdown",
      "source": "#### Missing Value Treatment",
      "metadata": {}
    },
    {
      "id": "c3b614c9-0c9c-4093-88fb-f7e2674e1c75",
      "cell_type": "code",
      "source": "df[['desc','emp_title','title']]=df[['desc','emp_title','title']].fillna('Others')",
      "metadata": {
        "trusted": true
      },
      "outputs": [],
      "execution_count": 206
    },
    {
      "id": "bbe5b382-a024-4cc2-a57a-324bc9739184",
      "cell_type": "code",
      "source": "null_cols = df.columns[df.isnull().any()]\nnull_df = df[null_cols].isnull().sum().to_frame(name='Null Count')\\\n          .merge(df[null_cols].isnull().mean().mul(100).to_frame(name='Null Percent'), left_index=True, right_index=True)\nnull_df_sorted = null_df.sort_values(by='Null Count', ascending=False)\nprint(null_df_sorted)",
      "metadata": {
        "trusted": true
      },
      "outputs": [
        {
          "name": "stdout",
          "text": "                            Null Count  Null Percent\nemp_length                        1075             3\npub_rec_bankruptcies               697             2\nlast_pymnt_d                        71             0\ncollections_12_mths_ex_med          56             0\nchargeoff_within_12_mths            56             0\nrevol_util                          50             0\ntax_liens                           39             0\nlast_credit_pull_d                   2             0\n",
          "output_type": "stream"
        }
      ],
      "execution_count": 207
    },
    {
      "id": "38b4b094-b623-44ea-a71f-2046abfae39d",
      "cell_type": "code",
      "source": "df['emp_title'].value_counts()",
      "metadata": {
        "trusted": true
      },
      "outputs": [
        {
          "execution_count": 208,
          "output_type": "execute_result",
          "data": {
            "text/plain": "Others                             2459\nUS Army                             134\nBank of America                     109\nIBM                                  66\nAT&T                                 59\n                                   ... \nAMEC                                  1\nlee county sheriff                    1\nBacon County Board of Education       1\nHotpads                               1\nEvergreen Center                      1\nName: emp_title, Length: 28821, dtype: int64"
          },
          "metadata": {}
        }
      ],
      "execution_count": 208
    },
    {
      "id": "aa49f64e-2fc6-44ba-a983-6ca1a4b66e5b",
      "cell_type": "code",
      "source": "df=df.drop(['emp_title'],axis=1)\ndf.shape",
      "metadata": {
        "trusted": true
      },
      "outputs": [
        {
          "execution_count": 209,
          "output_type": "execute_result",
          "data": {
            "text/plain": "(39717, 53)"
          },
          "metadata": {}
        }
      ],
      "execution_count": 209
    },
    {
      "id": "34213fc5-bee4-427c-a81f-f7fe5ef59743",
      "cell_type": "code",
      "source": "df['term'] = df['term'].str.replace('months', '')\ndf['term'] = df['term'].astype(int)",
      "metadata": {
        "trusted": true
      },
      "outputs": [],
      "execution_count": 210
    },
    {
      "id": "804dbde7-269b-4014-8145-b21408e1b282",
      "cell_type": "code",
      "source": "df['int_rate'] = df['int_rate'].str.replace('%', '')\ndf['int_rate'] = df['int_rate'].astype(float)",
      "metadata": {
        "trusted": true
      },
      "outputs": [],
      "execution_count": 211
    },
    {
      "id": "70e0c1d3-dd5f-4d0f-bb4c-8335f8a20f01",
      "cell_type": "code",
      "source": "df['emp_length'] = df['emp_length'].fillna('-1')\ndf['emp_length'] = df['emp_length'].str.replace('years', '')\ndf['emp_length'] = df['emp_length'].str.replace('year', '')\ndf['emp_length'] = df['emp_length'].str.replace('+', '')    \ndf['emp_length'] = df['emp_length'].str.replace('< 1', '0') \ndf['emp_length'] = df['emp_length'].astype(int)",
      "metadata": {
        "trusted": true
      },
      "outputs": [],
      "execution_count": 212
    },
    {
      "id": "ac687dac-de2c-4e32-9090-f24c37b2288d",
      "cell_type": "code",
      "source": "df['annual_inc'].describe()",
      "metadata": {
        "trusted": true
      },
      "outputs": [
        {
          "execution_count": 213,
          "output_type": "execute_result",
          "data": {
            "text/plain": "count     39717\nmean      68969\nstd       63794\nmin        4000\n25%       40404\n50%       59000\n75%       82300\nmax     6000000\nName: annual_inc, dtype: float64"
          },
          "metadata": {}
        }
      ],
      "execution_count": 213
    },
    {
      "id": "84a464fc-d2df-4ecf-b007-8e001bfc170e",
      "cell_type": "code",
      "source": "df=df.drop(['collections_12_mths_ex_med','policy_code','acc_now_delinq','chargeoff_within_12_mths','delinq_amnt','pub_rec_bankruptcies','tax_liens'],axis=1)\ndf.shape",
      "metadata": {
        "trusted": true
      },
      "outputs": [
        {
          "execution_count": 214,
          "output_type": "execute_result",
          "data": {
            "text/plain": "(39717, 46)"
          },
          "metadata": {}
        }
      ],
      "execution_count": 214
    },
    {
      "id": "02cacfb0-8e53-4e5a-ad13-4df4f4b809bc",
      "cell_type": "code",
      "source": "df['term'].value_counts()",
      "metadata": {
        "trusted": true
      },
      "outputs": [
        {
          "execution_count": 215,
          "output_type": "execute_result",
          "data": {
            "text/plain": "36    29096\n60    10621\nName: term, dtype: int64"
          },
          "metadata": {}
        }
      ],
      "execution_count": 215
    },
    {
      "id": "291195a6-5956-410b-9406-08cd13ea84fe",
      "cell_type": "code",
      "source": "df.head()",
      "metadata": {
        "trusted": true
      },
      "outputs": [
        {
          "execution_count": 216,
          "output_type": "execute_result",
          "data": {
            "text/plain": "        id  member_id  loan_amnt  funded_amnt  funded_amnt_inv  term  \\\n0  1077501    1296599       5000         5000             4975    36   \n1  1077430    1314167       2500         2500             2500    60   \n2  1077175    1313524       2400         2400             2400    36   \n3  1076863    1277178      10000        10000            10000    36   \n4  1075358    1311748       3000         3000             3000    60   \n\n   int_rate  installment grade sub_grade  ...  total_pymnt_inv  \\\n0        11          163     B        B2  ...             5834   \n1        15           60     C        C4  ...             1009   \n2        16           84     C        C5  ...             3006   \n3        13          339     C        C1  ...            12232   \n4        13           68     B        B5  ...             3513   \n\n  total_rec_prncp  total_rec_int total_rec_late_fee recoveries  \\\n0            5000            863                  0          0   \n1             456            435                  0        117   \n2            2400            606                  0          0   \n3           10000           2215                 17          0   \n4            2476           1037                  0          0   \n\n  collection_recovery_fee last_pymnt_d last_pymnt_amnt last_credit_pull_d  \\\n0                       0       Jan-15             172             May-16   \n1                       1       Apr-13             120             Sep-13   \n2                       0       Jun-14             650             May-16   \n3                       0       Jan-15             357             Apr-16   \n4                       0       May-16              68             May-16   \n\n  application_type  \n0       INDIVIDUAL  \n1       INDIVIDUAL  \n2       INDIVIDUAL  \n3       INDIVIDUAL  \n4       INDIVIDUAL  \n\n[5 rows x 46 columns]",
            "text/html": "<div>\n<style scoped>\n    .dataframe tbody tr th:only-of-type {\n        vertical-align: middle;\n    }\n\n    .dataframe tbody tr th {\n        vertical-align: top;\n    }\n\n    .dataframe thead th {\n        text-align: right;\n    }\n</style>\n<table border=\"1\" class=\"dataframe\">\n  <thead>\n    <tr style=\"text-align: right;\">\n      <th></th>\n      <th>id</th>\n      <th>member_id</th>\n      <th>loan_amnt</th>\n      <th>funded_amnt</th>\n      <th>funded_amnt_inv</th>\n      <th>term</th>\n      <th>int_rate</th>\n      <th>installment</th>\n      <th>grade</th>\n      <th>sub_grade</th>\n      <th>...</th>\n      <th>total_pymnt_inv</th>\n      <th>total_rec_prncp</th>\n      <th>total_rec_int</th>\n      <th>total_rec_late_fee</th>\n      <th>recoveries</th>\n      <th>collection_recovery_fee</th>\n      <th>last_pymnt_d</th>\n      <th>last_pymnt_amnt</th>\n      <th>last_credit_pull_d</th>\n      <th>application_type</th>\n    </tr>\n  </thead>\n  <tbody>\n    <tr>\n      <th>0</th>\n      <td>1077501</td>\n      <td>1296599</td>\n      <td>5000</td>\n      <td>5000</td>\n      <td>4975</td>\n      <td>36</td>\n      <td>11</td>\n      <td>163</td>\n      <td>B</td>\n      <td>B2</td>\n      <td>...</td>\n      <td>5834</td>\n      <td>5000</td>\n      <td>863</td>\n      <td>0</td>\n      <td>0</td>\n      <td>0</td>\n      <td>Jan-15</td>\n      <td>172</td>\n      <td>May-16</td>\n      <td>INDIVIDUAL</td>\n    </tr>\n    <tr>\n      <th>1</th>\n      <td>1077430</td>\n      <td>1314167</td>\n      <td>2500</td>\n      <td>2500</td>\n      <td>2500</td>\n      <td>60</td>\n      <td>15</td>\n      <td>60</td>\n      <td>C</td>\n      <td>C4</td>\n      <td>...</td>\n      <td>1009</td>\n      <td>456</td>\n      <td>435</td>\n      <td>0</td>\n      <td>117</td>\n      <td>1</td>\n      <td>Apr-13</td>\n      <td>120</td>\n      <td>Sep-13</td>\n      <td>INDIVIDUAL</td>\n    </tr>\n    <tr>\n      <th>2</th>\n      <td>1077175</td>\n      <td>1313524</td>\n      <td>2400</td>\n      <td>2400</td>\n      <td>2400</td>\n      <td>36</td>\n      <td>16</td>\n      <td>84</td>\n      <td>C</td>\n      <td>C5</td>\n      <td>...</td>\n      <td>3006</td>\n      <td>2400</td>\n      <td>606</td>\n      <td>0</td>\n      <td>0</td>\n      <td>0</td>\n      <td>Jun-14</td>\n      <td>650</td>\n      <td>May-16</td>\n      <td>INDIVIDUAL</td>\n    </tr>\n    <tr>\n      <th>3</th>\n      <td>1076863</td>\n      <td>1277178</td>\n      <td>10000</td>\n      <td>10000</td>\n      <td>10000</td>\n      <td>36</td>\n      <td>13</td>\n      <td>339</td>\n      <td>C</td>\n      <td>C1</td>\n      <td>...</td>\n      <td>12232</td>\n      <td>10000</td>\n      <td>2215</td>\n      <td>17</td>\n      <td>0</td>\n      <td>0</td>\n      <td>Jan-15</td>\n      <td>357</td>\n      <td>Apr-16</td>\n      <td>INDIVIDUAL</td>\n    </tr>\n    <tr>\n      <th>4</th>\n      <td>1075358</td>\n      <td>1311748</td>\n      <td>3000</td>\n      <td>3000</td>\n      <td>3000</td>\n      <td>60</td>\n      <td>13</td>\n      <td>68</td>\n      <td>B</td>\n      <td>B5</td>\n      <td>...</td>\n      <td>3513</td>\n      <td>2476</td>\n      <td>1037</td>\n      <td>0</td>\n      <td>0</td>\n      <td>0</td>\n      <td>May-16</td>\n      <td>68</td>\n      <td>May-16</td>\n      <td>INDIVIDUAL</td>\n    </tr>\n  </tbody>\n</table>\n<p>5 rows × 46 columns</p>\n</div>"
          },
          "metadata": {}
        }
      ],
      "execution_count": 216
    },
    {
      "id": "35590893-7633-4041-bd76-4ed40e221563",
      "cell_type": "code",
      "source": "df.grade.value_counts()",
      "metadata": {
        "trusted": true
      },
      "outputs": [
        {
          "execution_count": 217,
          "output_type": "execute_result",
          "data": {
            "text/plain": "B    12020\nA    10085\nC     8098\nD     5307\nE     2842\nF     1049\nG      316\nName: grade, dtype: int64"
          },
          "metadata": {}
        }
      ],
      "execution_count": 217
    },
    {
      "id": "dc3053af-ed93-408a-a64f-afcc0e38b51e",
      "cell_type": "code",
      "source": "df['verification_status'].value_counts()",
      "metadata": {
        "trusted": true
      },
      "outputs": [
        {
          "execution_count": 218,
          "output_type": "execute_result",
          "data": {
            "text/plain": "Not Verified       16921\nVerified           12809\nSource Verified     9987\nName: verification_status, dtype: int64"
          },
          "metadata": {}
        }
      ],
      "execution_count": 218
    },
    {
      "id": "1dca3de7-f221-4dbd-a45f-0cfcde9bde04",
      "cell_type": "code",
      "source": "df['loan_status'].value_counts()",
      "metadata": {
        "trusted": true
      },
      "outputs": [
        {
          "execution_count": 219,
          "output_type": "execute_result",
          "data": {
            "text/plain": "Fully Paid     32950\nCharged Off     5627\nCurrent         1140\nName: loan_status, dtype: int64"
          },
          "metadata": {}
        }
      ],
      "execution_count": 219
    },
    {
      "id": "28e1f131-af39-4641-81b6-76e46cce31a3",
      "cell_type": "code",
      "source": "res = pd.pivot_table(data=df,index=\"loan_status\",columns=\"verification_status\",values=\"member_id\",aggfunc='count')\nprint(res)",
      "metadata": {
        "trusted": true
      },
      "outputs": [
        {
          "name": "stdout",
          "text": "verification_status  Not Verified  Source Verified  Verified\nloan_status                                                 \nCharged Off                  2142             1434      2051\nCurrent                       227              310       603\nFully Paid                  14552             8243     10155\n",
          "output_type": "stream"
        }
      ],
      "execution_count": 225
    },
    {
      "id": "c924ce61-1265-4158-ace7-985d9669ed24",
      "cell_type": "code",
      "source": "39717",
      "metadata": {
        "trusted": true
      },
      "outputs": [],
      "execution_count": null
    },
    {
      "id": "a66d4509-dc9f-4af5-8e33-895b7384db9a",
      "cell_type": "code",
      "source": "df[df['loan_status']=='Fully Paid'].count()",
      "metadata": {
        "trusted": true
      },
      "outputs": [
        {
          "execution_count": 239,
          "output_type": "execute_result",
          "data": {
            "text/plain": "id                         32950\nmember_id                  32950\nloan_amnt                  32950\nfunded_amnt                32950\nfunded_amnt_inv            32950\nterm                       32950\nint_rate                   32950\ninstallment                32950\ngrade                      32950\nsub_grade                  32950\nemp_length                 32950\nhome_ownership             32950\nannual_inc                 32950\nverification_status        32950\nissue_d                    32950\nloan_status                32950\npymnt_plan                 32950\nurl                        32950\ndesc                       32950\npurpose                    32950\ntitle                      32950\nzip_code                   32950\naddr_state                 32950\ndti                        32950\ndelinq_2yrs                32950\nearliest_cr_line           32950\ninq_last_6mths             32950\nopen_acc                   32950\npub_rec                    32950\nrevol_bal                  32950\nrevol_util                 32916\ntotal_acc                  32950\ninitial_list_status        32950\nout_prncp                  32950\nout_prncp_inv              32950\ntotal_pymnt                32950\ntotal_pymnt_inv            32950\ntotal_rec_prncp            32950\ntotal_rec_int              32950\ntotal_rec_late_fee         32950\nrecoveries                 32950\ncollection_recovery_fee    32950\nlast_pymnt_d               32950\nlast_pymnt_amnt            32950\nlast_credit_pull_d         32949\napplication_type           32950\ndtype: int64"
          },
          "metadata": {}
        }
      ],
      "execution_count": 239
    },
    {
      "id": "409e32cf-b00d-443d-8f6e-b4969614a0fc",
      "cell_type": "code",
      "source": "df['int_rate'].describe()",
      "metadata": {
        "trusted": true
      },
      "outputs": [
        {
          "execution_count": 241,
          "output_type": "execute_result",
          "data": {
            "text/plain": "count   39717\nmean       12\nstd         4\nmin         5\n25%         9\n50%        12\n75%        15\nmax        25\nName: int_rate, dtype: float64"
          },
          "metadata": {}
        }
      ],
      "execution_count": 241
    },
    {
      "id": "74f3bd14-c6f6-4662-81d0-43d5852b8c32",
      "cell_type": "code",
      "source": "res = pd.pivot_table(data=df,index=\"loan_status\",columns=\"int_rate\",values=\"member_id\",aggfunc='count')\nprint(res)",
      "metadata": {
        "trusted": true
      },
      "outputs": [
        {
          "name": "stdout",
          "text": "int_rate     5   6   6   6   6   6   6   7   7   7   ...  23  23  23  23  24  \\\nloan_status                                          ...                       \nCharged Off  20  16  19 NaN   5  10   1  27  29   5  ...   4   1   5   1   4   \nCurrent     NaN NaN NaN   2 NaN NaN NaN NaN NaN NaN  ... NaN   1   1 NaN   3   \nFully Paid  553 394 328  16 442 242  57 278 367 163  ...   4 NaN   3   8   2   \n\nint_rate     24  24  24  24  25  \nloan_status                      \nCharged Off   1   2   1   1 NaN  \nCurrent     NaN   2 NaN NaN   1  \nFully Paid    3   7   2 NaN NaN  \n\n[3 rows x 371 columns]\n",
          "output_type": "stream"
        }
      ],
      "execution_count": 244
    },
    {
      "id": "fbd14f1f-dcfd-4dec-8efb-a0e00cc85408",
      "cell_type": "code",
      "source": "df['int_rate_Bucket'] = pd.qcut(df['int_rate'], [0, 0.2, 0.4, 0.6, 0.8, 1], [\"5%\",\"6%-9%\",\"10%-12%\",\"13%-15%\",\"16%-25%\"])",
      "metadata": {
        "trusted": true
      },
      "outputs": [],
      "execution_count": 246
    },
    {
      "id": "476aa9e8-4abc-4186-99e5-f3a5ddb9428f",
      "cell_type": "code",
      "source": "",
      "metadata": {
        "trusted": true
      },
      "outputs": [
        {
          "execution_count": 247,
          "output_type": "execute_result",
          "data": {
            "text/plain": "0          6%-9%\n1        13%-15%\n2        16%-25%\n3        13%-15%\n4        10%-12%\n          ...   \n39712      6%-9%\n39713      6%-9%\n39714      6%-9%\n39715         5%\n39716    13%-15%\nName: int_rate_Bucket, Length: 39717, dtype: category\nCategories (5, object): ['5%' < '6%-9%' < '10%-12%' < '13%-15%' < '16%-25%']"
          },
          "metadata": {}
        }
      ],
      "execution_count": 247
    },
    {
      "id": "fbd6004e-57af-4945-82cb-a0a3e8670d6b",
      "cell_type": "code",
      "source": "",
      "metadata": {
        "trusted": true
      },
      "outputs": [],
      "execution_count": null
    }
  ]
}